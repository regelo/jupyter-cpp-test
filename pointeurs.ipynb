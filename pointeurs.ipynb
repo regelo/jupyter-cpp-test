{
 "cells": [
  {
   "cell_type": "markdown",
   "metadata": {},
   "source": [
    "# Pointeurs\n",
    "Les pointeurs représentent un mécanisme introduit en C pour permettre des manipulations plus précises de la mémoire centrale (mémoire vive). Un pointeur est un lui-même un espace-mémoire, mais qui ne peut contenir que l'adresse d'un autre espace-mémoire.\n",
    "\n",
    "En C/C++, les pointeurs sont généralement typés, c'est-à-dire qu'il faut un pointeur particulier pour pointer vers un espace-mémoire qui contient un entier, un autre pointeur pour pointer vers un espace-mémoire qui contient une valeur flottante, un autre pointeur pour pointer vers un espace-mémoire qui contient un objet, etc.\n",
    "\n",
    "Pour un entier de type int, le pointeur à utiliser doit donc être de type int\\*.\n",
    "Pour une valeur flottante de type double, le pointeur à utiliser doit donc être de type double\\*.\n",
    "Pour un objet de type Velo, le pointeur à utiliser doit donc être de type Velo\\*."
   ]
  },
  {
   "cell_type": "markdown",
   "metadata": {},
   "source": [
    "## Opérateurs\n",
    "Pour pouvoir manipuler les pointeurs, nous avons besoin de plusieurs opérateurs : \n",
    "\n",
    " * Un opérateur qui nous permettra d'obtenir l'adresse d'un espace-mémoire existant : c'est l'operator&\n",
    " * Un opérateur qui nous permettra d'atteindre l'élément qui se trouve à une adresse-mémoire donnée : c'est l'operator*\n",
    " \n",
    "Notez que ces deux opérateurs signifient déjà autre chose dans d'autres contexte. L'esperluette (&) sert à définir une référence et l'étoile (\\*) sert pour la multiplication. Il faut donc être sûrEs d'être dans le bon contexte."
   ]
  },
  {
   "cell_type": "code",
   "execution_count": 1,
   "metadata": {},
   "outputs": [
    {
     "name": "stdout",
     "output_type": "stream",
     "text": [
      "5\n",
      "5\n",
      "5\n"
     ]
    }
   ],
   "source": [
    "#include <iostream>\n",
    "\n",
    "int valeur = 5;\n",
    "int* pointeur = &valeur;\n",
    "int& reference = valeur;\n",
    "\n",
    "std::cout << valeur << std::endl;\n",
    "std::cout << *pointeur << std::endl;\n",
    "std::cout << reference << std::endl;"
   ]
  },
  {
   "cell_type": "markdown",
   "metadata": {},
   "source": [
    "TODO tester NBviewer en premier : est-ce que ça peut rouler du C/C++ ? Est-ce que ça a besoin du fichier YAML ? Etc.\n",
    "\n",
    "RAPPEL : L'objectif est d'enrichir les notes de cours, par les dupliquer. On ne veut pas tout répéter ce qui est dans les notes, mais montrer des exemples concrets sur à quoi ça peut bien servir.\n",
    "\n",
    "Plan : \n",
    " * Ajouter un \"comment utiliser Juptyer Notebook au début\"\n",
    " * Quelques exemples progressivement plus complexes.\n",
    " * Indiquer que ça ne sert pas à grand chose de lier des variables qui sont déjà là.\n",
    " * La force : allocation dynamique.\n",
    " * Introduire la liste chaînée ? une structure quelconque en tout cas.\n",
    " * Quelque chose de graphique ? Est-ce que je peux mettre une fenêtre OpenGL ici ?"
   ]
  },
  {
   "cell_type": "code",
   "execution_count": 2,
   "metadata": {},
   "outputs": [
    {
     "name": "stderr",
     "output_type": "stream",
     "text": [
      "input_line_10:2:6: error: redefinition of 'une_valeur'\n",
      " int une_valeur = 0;\n",
      "     ^\n",
      "input_line_8:2:6: note: previous definition is here\n",
      " int une_valeur = 0;\n",
      "     ^\n"
     ]
    },
    {
     "ename": "Interpreter Error",
     "evalue": "",
     "output_type": "error",
     "traceback": [
      "Interpreter Error: "
     ]
    }
   ],
   "source": [
    "#include <iostream>\n",
    "\n",
    "int une_valeur = 0;\n",
    "while(une_valeur>=0) {\n",
    "  std::cout << \"Entrez valeur : \";\n",
    "  std::cin >> une_valeur;\n",
    "  std::cout << une_valeur << std::endl;\n",
    "}"
   ]
  },
  {
   "cell_type": "code",
   "execution_count": null,
   "metadata": {},
   "outputs": [],
   "source": []
  }
 ],
 "metadata": {
  "kernelspec": {
   "display_name": "C++11",
   "language": "C++11",
   "name": "xcpp11"
  },
  "language_info": {
   "codemirror_mode": "text/x-c++src",
   "file_extension": ".cpp",
   "mimetype": "text/x-c++src",
   "name": "c++",
   "version": "11"
  }
 },
 "nbformat": 4,
 "nbformat_minor": 4
}
